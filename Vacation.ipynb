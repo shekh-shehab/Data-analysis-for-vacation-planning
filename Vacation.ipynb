{
 "cells": [
  {
   "cell_type": "markdown",
   "metadata": {
    "id": "hsnC_m8CAbTM"
   },
   "source": [
    "## Exercise - Data Analysis for Vacation Planning\n",
    "\n",
    "You're planning a vacation, and you need to decide which city you want to visit. You have shortlisted four cities and identified the return flight cost, daily hotel cost, and weekly car rental cost. While renting a car, you need to pay for entire weeks, even if you return the car sooner.\n",
    "\n",
    "\n",
    "| City | Return Flight (`$`) | Hotel per day (`$`) | Weekly Car Rental  (`$`) | \n",
    "|------|--------------------------|------------------|------------------------|\n",
    "| Paris|       200                |       20         |          200           |\n",
    "| London|      250                |       30         |          120           |\n",
    "| Dubai|       370                |       15         |          80           |\n",
    "| Mumbai|      450                |       10         |          70           |         \n",
    "\n",
    "\n",
    "Answer the following questions using the data above:\n",
    "\n",
    "1. If you're planning a 1-week long trip, which city should you visit to spend the least amount of money?\n",
    "2. How does the answer to the previous question change if you change the trip's duration to four days, ten days or two weeks?\n",
    "3. If your total budget for the trip is `$1000`, which city should you visit to maximize the duration of your trip? Which city should you visit if you want to minimize the duration?\n",
    "4. How does the answer to the previous question change if your budget is `$600`, `$2000`, or `$1500`?\n",
    "\n",
    "*Hint: To answer these questions, it will help to define a function `cost_of_trip` with relevant inputs like flight cost, hotel rate, car rental rate, and duration of the trip. You may find the `math.ceil` function useful for calculating the total cost of car rental.*"
   ]
  },
  {
   "cell_type": "markdown",
   "metadata": {
    "id": "Jl8M-3MLi7in"
   },
   "source": [
    "## Answers"
   ]
  },
  {
   "cell_type": "markdown",
   "metadata": {
    "id": "3eyJ9_hGjEbA"
   },
   "source": [
    "### 1"
   ]
  },
  {
   "cell_type": "code",
   "execution_count": 83,
   "metadata": {
    "colab": {
     "base_uri": "https://localhost:8080/"
    },
    "executionInfo": {
     "elapsed": 414,
     "status": "ok",
     "timestamp": 1673418106633,
     "user": {
      "displayName": "shekh shehab",
      "userId": "09539749564300885468"
     },
     "user_tz": -360
    },
    "id": "ikZZ7H1-slaa",
    "outputId": "424de649-6368-4154-a64f-8a5f0ba6f432"
   },
   "outputs": [
    {
     "name": "stdout",
     "output_type": "stream",
     "text": [
      "\"Paris\" should visit for spending least amount of money\n"
     ]
    }
   ],
   "source": [
    "# Function for total cost\n",
    "\n",
    "def cost_of_trip(flight_cost, hotel_rate, car_rental):\n",
    "  total_cost = flight_cost + hotel_rate * 7 + car_rental\n",
    "  return total_cost\n",
    "\n",
    "# Estimating all costs per city\n",
    "\n",
    "costs = {\"Paris\": cost_of_trip(200, 20, 200),\n",
    "          \"London\": cost_of_trip(250, 30, 120),\n",
    "          \"Dubai\": cost_of_trip(370, 15, 80),\n",
    "          \"Mumbai\": cost_of_trip(450, 10, 70)}\n",
    "\n",
    "# Least cost city name\n",
    "\n",
    "for city, cost in costs.items():\n",
    "  least_cost = min(costs.values())\n",
    "  if cost == least_cost:\n",
    "    print(f\"\"\"\"{city}\" should visit for spending least amount of money\"\"\")"
   ]
  },
  {
   "cell_type": "markdown",
   "metadata": {
    "id": "d4k74udH_7DV"
   },
   "source": [
    "### 2"
   ]
  },
  {
   "cell_type": "code",
   "execution_count": 84,
   "metadata": {
    "colab": {
     "base_uri": "https://localhost:8080/"
    },
    "executionInfo": {
     "elapsed": 385,
     "status": "ok",
     "timestamp": 1673418143627,
     "user": {
      "displayName": "shekh shehab",
      "userId": "09539749564300885468"
     },
     "user_tz": -360
    },
    "id": "09-o-QIL_94D",
    "outputId": "dcbb93ac-cdc5-4ab8-97d6-9b39e7b76eaf"
   },
   "outputs": [
    {
     "name": "stdout",
     "output_type": "stream",
     "text": [
      "\"Paris\" should visit for 4 days to spend least amount of money\n",
      "\"Dubai\" should visit for 10 days to spend least amount of money\n",
      "\"Mumbai\" should visit for 14 days to spend least amount of money\n"
     ]
    }
   ],
   "source": [
    "import math\n",
    "\n",
    "# Know the trip duration\n",
    "\n",
    "trip_days = [4,10,14]\n",
    "\n",
    "for trip_duration in trip_days:\n",
    "  # Defining function\n",
    "\n",
    "  def cost_of_trip(flight_cost, hotel_rate, car_rental):\n",
    "\n",
    "    # taking a factor for car_rental\n",
    "\n",
    "    car_rental_factor = math.ceil(trip_duration/7)\n",
    "\n",
    "    # Checking the factor\n",
    "\n",
    "    if car_rental_factor == 0:\n",
    "      car_rental_factor = 1\n",
    "    \n",
    "    # Total cost\n",
    "\n",
    "    total_cost = flight_cost + hotel_rate * trip_duration + car_rental * car_rental_factor\n",
    "    return total_cost\n",
    "\n",
    "\n",
    "  # Estimating all costs per city\n",
    "\n",
    "  costs = {\"Paris\": cost_of_trip(200, 20, 200),\n",
    "            \"London\": cost_of_trip(250, 30, 120),\n",
    "            \"Dubai\": cost_of_trip(370, 15, 80),\n",
    "            \"Mumbai\": cost_of_trip(450, 10, 70)}\n",
    "\n",
    "  # Least cost city name\n",
    "\n",
    "  for city, cost in costs.items():\n",
    "    least_cost = min(costs.values())\n",
    "    if cost == least_cost:\n",
    "      print(f\"\"\"\"{city}\" should visit for {trip_duration} days to spend least amount of money\"\"\")\n"
   ]
  },
  {
   "cell_type": "markdown",
   "metadata": {
    "id": "O2fuIz5eGNGb"
   },
   "source": [
    "### 3"
   ]
  },
  {
   "cell_type": "code",
   "execution_count": 85,
   "metadata": {
    "colab": {
     "base_uri": "https://localhost:8080/"
    },
    "executionInfo": {
     "elapsed": 425,
     "status": "ok",
     "timestamp": 1673418151906,
     "user": {
      "displayName": "shekh shehab",
      "userId": "09539749564300885468"
     },
     "user_tz": -360
    },
    "id": "oEWBTtoQLX_I",
    "outputId": "7a9bf9c9-a48a-4f18-dbac-2598f1428924"
   },
   "outputs": [
    {
     "name": "stdout",
     "output_type": "stream",
     "text": [
      "\"London\" should visit for spending \"minimum days\" = 15 in $1000\n",
      "\"Mumbai\" should visit for spending \"maximum days\" = 27 in $1000\n"
     ]
    }
   ],
   "source": [
    "import math\n",
    "\n",
    "Total_Cost = 1000\n",
    "\n",
    "# Given data\n",
    "\n",
    "cities = {\"Paris\":{\"flight_cost\": 200,\n",
    "                \"hotel_rate\": 20,\n",
    "                \"car_rental\": 200},\n",
    "        \"London\":{\"flight_cost\": 250,\n",
    "                  \"hotel_rate\": 30,\n",
    "                  \"car_rental\": 120},\n",
    "        \"Dubai\":{\"flight_cost\":370,\n",
    "                 \"hotel_rate\": 15,\n",
    "                 \"car_rental\": 80},\n",
    "        \"Mumbai\": {\"flight_cost\": 450,\n",
    "                   \"hotel_rate\": 10,\n",
    "                   \"car_rental\": 70}}\n",
    "\n",
    "city_names = [\"Paris\", \"London\", \"Dubai\", \"Mumbai\"]\n",
    "\n",
    "# New dict containing city names and spending days in $1000\n",
    "\n",
    "city_max_days = {}\n",
    "\n",
    "# Calculating spending days and updating city_max_days dictionary\n",
    "\n",
    "for city in city_names:\n",
    "  flight_cost = cities[city][\"flight_cost\"]\n",
    "  hotel_rate = cities[city][\"hotel_rate\"]\n",
    "  car_rental = cities[city][\"car_rental\"]\n",
    "  trip_duration = math.floor((Total_Cost - flight_cost)/(hotel_rate + (car_rental)/7))\n",
    "  city_max_days[city] = trip_duration\n",
    "\n",
    "# Decision for maximum and minimum spending days using city_max_days dict\n",
    "\n",
    "for city, days in city_max_days.items():\n",
    "  max_days = max(city_max_days.values())\n",
    "  min_days = min(city_max_days.values())\n",
    "  if days == max_days:\n",
    "    print(f\"\"\"\"{city}\" should visit for spending \"maximum days\" = {max_days} in ${Total_Cost}\"\"\")\n",
    "  if days == min_days:\n",
    "    print(f\"\"\"\"{city}\" should visit for spending \"minimum days\" = {min_days} in ${Total_Cost}\"\"\")"
   ]
  },
  {
   "cell_type": "markdown",
   "metadata": {
    "id": "lcQ6gm-iXkJm"
   },
   "source": [
    "### 4"
   ]
  },
  {
   "cell_type": "code",
   "execution_count": 86,
   "metadata": {
    "colab": {
     "base_uri": "https://localhost:8080/"
    },
    "executionInfo": {
     "elapsed": 416,
     "status": "ok",
     "timestamp": 1673418163690,
     "user": {
      "displayName": "shekh shehab",
      "userId": "09539749564300885468"
     },
     "user_tz": -360
    },
    "id": "i00NJCL-Xras",
    "outputId": "c09511e3-e80f-4b91-e075-c76d5108f7b9"
   },
   "outputs": [
    {
     "name": "stdout",
     "output_type": "stream",
     "text": [
      "\"Paris\" should visit for spending \"maximum days\" = 8 in $600\n",
      "\n",
      "\"London\" should visit for spending \"minimum days\" = 7 in $600\n",
      "\n",
      "\"Dubai\" should visit for spending \"maximum days\" = 8 in $600\n",
      "\n",
      "\"Mumbai\" should visit for spending \"minimum days\" = 7 in $600\n",
      "\n",
      "\"Paris\" should visit for spending \"minimum days\" = 37 in $2000\n",
      "\n",
      "\"London\" should visit for spending \"minimum days\" = 37 in $2000\n",
      "\n",
      "\"Mumbai\" should visit for spending \"maximum days\" = 77 in $2000\n",
      "\n",
      "\"Paris\" should visit for spending \"minimum days\" = 26 in $1500\n",
      "\n",
      "\"London\" should visit for spending \"minimum days\" = 26 in $1500\n",
      "\n",
      "\"Mumbai\" should visit for spending \"maximum days\" = 52 in $1500\n",
      "\n"
     ]
    }
   ],
   "source": [
    "import math\n",
    "\n",
    "Budgets = [600, 2000, 1500]\n",
    "\n",
    "# Given data\n",
    "\n",
    "cities = {\"Paris\":{\"flight_cost\": 200,\n",
    "                \"hotel_rate\": 20,\n",
    "                \"car_rental\": 200},\n",
    "        \"London\":{\"flight_cost\": 250,\n",
    "                  \"hotel_rate\": 30,\n",
    "                  \"car_rental\": 120},\n",
    "        \"Dubai\":{\"flight_cost\":370,\n",
    "                 \"hotel_rate\": 15,\n",
    "                 \"car_rental\": 80},\n",
    "        \"Mumbai\": {\"flight_cost\": 450,\n",
    "                   \"hotel_rate\": 10,\n",
    "                   \"car_rental\": 70}}\n",
    "\n",
    "city_names = [\"Paris\", \"London\", \"Dubai\", \"Mumbai\"]\n",
    "\n",
    "for Total_Cost in Budgets:\n",
    "\n",
    "  # New dict containing city names and spending days in $1000\n",
    "\n",
    "  city_max_days = {}\n",
    "\n",
    "  # Calculating spending days and updating city_max_days dictionary\n",
    "\n",
    "  for city in city_names:\n",
    "    flight_cost = cities[city][\"flight_cost\"]\n",
    "    hotel_rate = cities[city][\"hotel_rate\"]\n",
    "    car_rental = cities[city][\"car_rental\"]\n",
    "    trip_duration = math.floor((Total_Cost - flight_cost)/(hotel_rate + (car_rental)/7))\n",
    "    city_max_days[city] = trip_duration\n",
    "\n",
    "  # Decision for maximum and minimum spending days using city_max_days dict\n",
    "\n",
    "  for city, days in city_max_days.items():\n",
    "    max_days = max(city_max_days.values())\n",
    "    min_days = min(city_max_days.values())\n",
    "\n",
    "    if days == max_days:\n",
    "      print(f\"\"\"\"{city}\" should visit for spending \"maximum days\" = {max_days} in ${Total_Cost}\\n\"\"\")\n",
    "    \n",
    "    if days == min_days:\n",
    "      print(f\"\"\"\"{city}\" should visit for spending \"minimum days\" = {min_days} in ${Total_Cost}\\n\"\"\")\n"
   ]
  }
 ],
 "metadata": {
  "colab": {
   "authorship_tag": "ABX9TyPVlklx3EaTzMobOzbbi4li",
   "provenance": []
  },
  "kernelspec": {
   "display_name": "Python 3 (ipykernel)",
   "language": "python",
   "name": "python3"
  },
  "language_info": {
   "codemirror_mode": {
    "name": "ipython",
    "version": 3
   },
   "file_extension": ".py",
   "mimetype": "text/x-python",
   "name": "python",
   "nbconvert_exporter": "python",
   "pygments_lexer": "ipython3",
   "version": "3.11.3"
  }
 },
 "nbformat": 4,
 "nbformat_minor": 4
}
